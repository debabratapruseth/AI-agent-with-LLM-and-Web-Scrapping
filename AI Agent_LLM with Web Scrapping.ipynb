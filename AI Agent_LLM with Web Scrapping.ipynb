{
  "nbformat": 4,
  "nbformat_minor": 0,
  "metadata": {
    "colab": {
      "provenance": [],
      "machine_shape": "hm"
    },
    "kernelspec": {
      "name": "python3",
      "display_name": "Python 3"
    },
    "language_info": {
      "name": "python"
    }
  },
  "cells": [
    {
      "cell_type": "markdown",
      "source": [
        "# Agentic AI for Beginners\n",
        "# Simple chatbot to answer queries from a website"
      ],
      "metadata": {
        "id": "ypvp4lhzN8LW"
      }
    },
    {
      "cell_type": "markdown",
      "source": [
        "## 1. Importing Required Libraries"
      ],
      "metadata": {
        "id": "YAGJzjtxOsTd"
      }
    },
    {
      "cell_type": "code",
      "execution_count": 69,
      "metadata": {
        "id": "9InX-HaAMfPm"
      },
      "outputs": [],
      "source": [
        "from openai import OpenAI                # Imports the OpenAI API client to access GPT-4 or GPT-3.5\n",
        "import os                                # For setting environment variables\n",
        "import requests                          # To fetch data from webpages\n",
        "from bs4 import BeautifulSoup            # To parse HTML content and extract clean text/links\n",
        "from google.colab import userdata        # Secure way to store/retrieve sensitive info in Google Colab"
      ]
    },
    {
      "cell_type": "markdown",
      "source": [
        "## 2. Loading the OpenAI API Key"
      ],
      "metadata": {
        "id": "yzU1HV6zN2UA"
      }
    },
    {
      "cell_type": "code",
      "source": [
        "os.environ[\"OPENAI_API_KEY\"] = userdata.get(\"OPENAI_API_KEY\")  # Fetches API key from Colab secrets. Get your openai keys from https://platform.openai.com/api-keys\n",
        "client = OpenAI(api_key=os.environ[\"OPENAI_API_KEY\"])          # Creates the OpenAI client\n"
      ],
      "metadata": {
        "id": "c5RLceyMNNti"
      },
      "execution_count": 70,
      "outputs": []
    },
    {
      "cell_type": "markdown",
      "source": [
        "## 3. Get All Child Links from a Base URL\n",
        "### In the below example i am scarpping https://www.sc.com/sg/ and all its child pages. Make the necessary changes as per your required website"
      ],
      "metadata": {
        "id": "G2K3nsp1N3uk"
      }
    },
    {
      "cell_type": "code",
      "source": [
        "from urllib.parse import urljoin, urlparse  # Helps combine and parse URLs\n",
        "\n",
        "def get_child_links(base_url, max_links=10):\n",
        "    base = urlparse(base_url)               # Extract domain parts from URL\n",
        "    domain = base.netloc                    # E.g., \"www.sc.com\"\n",
        "    try:\n",
        "        response = requests.get(base_url, timeout=10)     # Download HTML content\n",
        "        soup = BeautifulSoup(response.text, \"html.parser\")  # Parse HTML using BeautifulSoup\n",
        "        links = set()                         # Use set to avoid duplicates\n",
        "\n",
        "        for a in soup.find_all(\"a\", href=True):            # Loop through all <a href=\"\">\n",
        "            href = a['href']                               # Get the link URL\n",
        "            full_url = urljoin(base_url, href)             # Convert relative to full URL\n",
        "            parsed = urlparse(full_url)\n",
        "\n",
        "            # Filter: Only include links from the same domain and inside \"/sg/\". Make changes based on parent page you are scrapping\n",
        "            if parsed.netloc == domain and parsed.path.startswith(\"/sg/\"):\n",
        "                links.add(full_url)\n",
        "\n",
        "            if len(links) >= max_links:\n",
        "                break\n",
        "        return list(links)\n",
        "        print(links)\n",
        "    except Exception as e:\n",
        "        return []\n"
      ],
      "metadata": {
        "id": "FNjsWpaaNPv4"
      },
      "execution_count": 71,
      "outputs": []
    },
    {
      "cell_type": "markdown",
      "source": [
        "## 4. Read and Extract Text from URLs ( Parent and Child Links )"
      ],
      "metadata": {
        "id": "BzH6OkuJN4ZH"
      }
    },
    {
      "cell_type": "code",
      "source": [
        "def read_from_url(url, show_links=False):\n",
        "    try:\n",
        "        all_pages = [url] + get_child_links(url, max_links=10)  # We have limited the child pages to be crawled to max 10. You can change it based on your requirements. In this example the agent will only respond from these 10 child pages it crawled\n",
        "\n",
        "        if show_links:\n",
        "            print(\"🔗 Indexed the following pages:\")\n",
        "            for page in all_pages:\n",
        "                print(page)\n",
        "\n",
        "        all_text = \"\"\n",
        "\n",
        "        for page in all_pages:\n",
        "            try:\n",
        "                res = requests.get(page, timeout=10)\n",
        "                soup = BeautifulSoup(res.text, \"html.parser\")\n",
        "                for tag in soup([\"script\", \"style\", \"noscript\"]):\n",
        "                    tag.decompose()\n",
        "                text = soup.get_text(separator=\"\\n\").strip()\n",
        "                all_text += f\"\\n\\n--- Content from {page} ---\\n{text}\"\n",
        "            except Exception as inner_e:\n",
        "                all_text += f\"\\n\\n[Error reading {page}]: {inner_e}\"\n",
        "\n",
        "        return all_text[:12000]  # Change the number of words you want to extract from each page.\n",
        "    except Exception as e:\n",
        "        return f\"Error reading base URL: {e}\"\n",
        "\n"
      ],
      "metadata": {
        "id": "Jx7MM35_NZDf"
      },
      "execution_count": 72,
      "outputs": []
    },
    {
      "cell_type": "code",
      "source": [
        "# This is a test code. Run this separately to inspect what pages were crawled\n",
        "# read_from_url(\"https://www.sc.com/sg\", show_links=True)\n"
      ],
      "metadata": {
        "colab": {
          "base_uri": "https://localhost:8080/",
          "height": 296
        },
        "id": "J_r_bWU0TVd9",
        "outputId": "e2781100-94d7-4ea4-f454-bc6b1941f3b3"
      },
      "execution_count": 73,
      "outputs": [
        {
          "output_type": "stream",
          "name": "stdout",
          "text": [
            "🔗 Indexed the following pages:\n",
            "https://www.sc.com/sg\n",
            "https://www.sc.com/sg/\n",
            "https://www.sc.com/sg/save/current-accounts/wealth-saver/?intcid=web_listing-sc_com_top_nav-homepg1-staticmedia_others-sng-homepage_new-wealth-saver-acquisition-sc_com_organic-sg-en\n",
            "https://www.sc.com/sg/search/\n",
            "https://www.sc.com/sg/save/savings-accounts/esaver/?intcid=web_listing-sc_com_top_nav-homepg1-staticmedia_others-sng-homepage_new-esaver-acquisition-sc_com_organic-sg-en\n",
            "https://www.sc.com/sg/bank-with-us/mobile-banking-services/standard-chartered-mobile/\n",
            "https://www.sc.com/sg/priority/\n",
            "https://www.sc.com/sg/promotions/referral-signup/\n",
            "https://www.sc.com/sg/international-banking/\n",
            "https://www.sc.com/sg/business/\n",
            "https://www.sc.com/sg/save/current-accounts/bonussaver/?intcid=web_listing-sc_com_top_nav-homepg1-staticmedia_others-sng-homepage_new-bsaver-acquisition-sc_com_organic-sg-en\n"
          ]
        },
        {
          "output_type": "execute_result",
          "data": {
            "text/plain": [
              "'\\n\\n--- Content from https://www.sc.com/sg ---\\nStandard Chartered Singapore\\n\\n\\n\\n\\n\\n\\n\\n\\n\\n\\n\\n\\n\\n\\n\\n\\n\\n\\n\\n\\n\\n\\n\\n\\n\\n\\n\\n\\n\\n\\n\\n\\n\\n\\n\\n\\n\\n\\n\\n\\n\\n\\n\\n\\n\\n\\n\\n\\n\\n\\n\\n\\n\\n\\n\\n\\n\\n\\n\\n\\n\\n\\n\\n\\n\\n\\n\\n\\n\\n\\n\\n\\n\\n\\n\\n\\n\\n\\n\\n\\n\\n\\n\\n\\n\\n\\n\\n\\n\\n\\n\\n\\n\\n\\n\\n\\n\\n\\n\\n\\n\\r\\n                            Personal\\r\\n                        \\n\\n\\n\\n\\n\\n\\n\\r\\n                            Priority\\r\\n                        \\n\\n\\n\\n\\n\\n\\n\\r\\n                            International\\r\\n                        \\n\\n\\n\\n\\n\\n\\n\\r\\n                            Business\\r\\n                        \\n\\n\\n\\n\\n\\n\\n\\r\\n                            Private\\r\\n                        \\n\\n\\n\\n\\n\\n\\n\\n\\n\\n\\n\\n\\n\\n\\n\\n\\n\\n\\n\\n\\n\\n\\n\\n\\n\\n\\n\\r\\n                                Referral Sign Up\\r\\n                            \\n\\n\\n\\n\\n\\n\\n\\n\\n\\n\\n\\n\\n\\n\\n\\n\\n\\n\\n\\r\\n                                Search\\r\\n                            \\n\\n\\n\\n\\n\\n\\n\\n\\n\\n\\n\\n\\n\\n\\n\\n\\n\\n\\n\\n\\n\\n\\n\\n\\n\\n\\n\\n\\n\\n\\n\\n\\n\\n\\n\\r\\n\\r\\n                                Digital Banking\\r\\n                            \\n\\n\\n\\n\\n\\n\\n\\n\\n\\n\\n\\n\\n\\n\\n\\n\\n\\n\\n\\n\\n\\n\\n\\n\\nStandard Chartered\\n\\n\\n\\n\\n\\n\\n\\n\\n\\n\\n\\n\\n\\n\\n\\r\\n                        Accounts & Deposits\\r\\n                        \\nSavings, Fixed Deposits, Remittances\\n\\n\\n\\n\\n\\n\\n\\n\\n\\r\\n                                Accounts & Deposits\\r\\n                            \\n\\n\\n\\n\\n\\n\\n\\n\\n\\n\\n\\n\\n\\n\\n\\n\\n\\n\\nEveryday Use\\n\\n\\n\\n\\n\\n\\n\\n\\n\\n\\n\\n\\n\\n\\n\\n\\n\\n\\n\\n\\n\\r\\n                                                            Bonus$aver Account\\r\\n                                                        \\n\\n\\n\\n\\n\\r\\n                                                                Up to \\n8.05 % \\np.a interest\\r\\n                                                            \\n\\n\\n\\r\\n                                                                Choose how your money grows \\r\\n\\r\\n                                                            \\n\\n\\n\\n\\n\\n\\n\\r\\nGet 50 units of SPDR STI ETF (SGX:ES3) worth S$198 when you sign up for a Bonus$aver Account and a Bonus$aver World Mastercard Credit Card! T&Cs apply \\r\\n                                                                \\n\\n\\n\\n\\n\\n\\n\\n\\n\\n\\n\\n\\n\\n\\n\\n\\nSavings\\n\\n\\n\\n\\n\\n\\n\\n\\n\\n\\n\\n\\n\\n\\n\\n\\n\\n\\n\\n\\n\\r\\n                                                            e$aver Account\\r\\n                                                        \\n\\n\\n\\n\\n\\r\\n                                                                Earn up to \\n2.65% \\np.a\\r\\n                                                            \\n\\n\\n\\n\\n\\n\\n\\n\\n\\n\\n\\n\\nHigh yield savings account with the flexibility to access your cash at any time.\\r\\n\\n\\n\\n\\n\\n\\n\\n\\n\\n\\n\\n\\n\\n\\n\\n\\n\\n\\n\\nWealth Building\\n\\n\\n\\n\\n\\n\\n\\n\\n\\n\\n\\n\\n\\n\\n\\n\\n\\n\\n\\n\\n\\n\\n\\n\\n\\n\\n\\n\\n\\n\\n\\n\\n\\r\\n                                                            Wealth $aver Account\\r\\n                                                        \\n\\n\\n\\n\\n\\r\\n                                                                Up to \\n4.00% \\np.a\\r\\n                                                            \\n\\n\\n\\r\\n                                                                A Priority Banking account to help you grow your\\r\\n                                                                wealth\\r\\n                                                            \\n\\n\\n\\n\\n\\n\\n\\n\\n\\r\\n                                                                    Receive welcome gifts of up to\\r\\n                                                                    \\nS$19,000\\n in value when you\\r\\n                                                                    sign up for Priority Banking\\r\\n                                                                \\n\\n\\n+1%\\n Unlimited Cashback on your\\r\\n                                                                    debit card\\n\\n\\n\\n\\n\\n\\n\\n\\n\\n\\n\\n\\n\\n\\n\\n\\n\\n\\n\\n\\n\\n\\n\\n\\n\\n\\n\\n\\n\\r\\n                                                                Compare accounts and choose the one that\\r\\n                                                                best suits your needs\\r\\n                                                            \\n\\n\\n\\n\\n\\r\\n                                                            View And Compare Accounts\\r\\n                                                        \\n\\n\\n\\n\\n\\n\\n\\n\\n\\n\\n\\r\\n                                                    Current and Savings\\r\\n                                                \\n\\n\\n\\n\\n\\n\\n\\n\\n\\n\\n\\r\\n                                                                    First$aver Account \\r\\n                                                                \\n\\n\\n\\r\\n                                                                    The savings account for youths\\r\\n\\r\\n                                                                \\n\\n\\n\\n\\n\\n\\n\\n\\n\\n\\n\\n\\n\\n\\n\\r\\n                                                                    USD$aver Account\\r\\n                                                                \\n\\n\\n\\r\\n                                                                    Earn up to 5.00% p.a. interest on your USD deposits with no lock-in period\\r\\n\\r\\n                                                                \\n\\n\\n\\n\\n\\n\\n\\n\\n\\n\\n\\n\\n\\n\\n\\r\\n                                                                    MyWay Savings Account\\r\\n                                                                \\n\\n\\n\\r\\n                                                                    Tailored for 55 years and above with up to 4.80% p.a. interest \\r\\n\\r\\n                                                                \\n\\n\\n\\n\\n\\n\\n\\n\\n\\n\\n\\r\\n                                                    Time deposits\\r\\n                                                \\n\\n\\n\\n\\n\\n\\n\\n\\n\\n\\n\\r\\n                                                                    SGD Time Deposit\\r\\n                                                                \\n\\n\\n\\r\\n                                                                    Earn high interest on your Singapore Dollar\\r\\n                                                                    Time Deposit (Fixed Deposit)\\r\\n                                                                \\n\\n\\n\\n\\n\\n\\n\\n\\n\\n\\n\\n\\n\\n\\n\\r\\n                                                                    FCY Time Deposit\\r\\n                                                                \\n\\n\\n\\r\\n                                                                    Earn high interest for your foreign currency\\r\\n                                                                \\n\\n\\n\\n\\n\\n\\n\\n\\n\\n\\n\\n\\n\\n\\n\\n\\n\\n\\n\\n\\n\\r\\n                                                    Services and Useful links\\r\\n                                                \\n\\n\\n\\n\\n\\n\\n\\n\\n\\n\\nSC Remit\\n\\n\\n\\n\\n\\n\\n\\n\\n\\n\\n\\n\\n\\n\\n\\r\\n                                                                    Money Lock\\r\\n                                                                \\n\\n\\n\\n\\n\\n\\n\\n\\n\\n\\n\\n\\n\\n\\n\\r\\n                                                                    Manage Your Payments\\r\\n                                                                \\n\\n\\n\\n\\n\\n\\n\\n\\n\\n\\n\\n\\n\\n\\n\\r\\nSC EasyPay Instalments                                                                \\n\\n\\n\\n\\n\\n\\n\\n\\n\\n\\n\\n\\n\\n\\n\\r\\n                                                                    eStatement & eAdvices\\r\\n                                                                \\n\\n\\n\\n\\n\\n\\n\\n\\n\\n\\n\\n\\n\\n\\n\\r\\n                                                                    Standard Chartered Mobile\\r\\n                                                                \\n\\n\\n\\n\\n\\n\\n\\n\\n\\n\\n\\n\\n\\n\\n\\r\\n                                                                    Frequently Asked Questions\\r\\n                                                                \\n\\n\\n\\n\\n\\n\\n\\n\\n\\n\\n\\n\\n\\n\\n\\r\\n                                                                    Pricing Guide\\r\\n                                                                \\n\\n\\n\\n\\n\\n\\n\\n\\n\\n\\n\\n\\n\\n\\n\\n\\n\\n\\n\\n\\n\\n\\n\\r\\nGet 50 units of SPDR STI ETF (SGX:ES3) worth S$198 with Bonus$aver \\r\\n\\r\\n\\r\\n\\r\\n                                                                \\n\\n\\n\\r\\nOffer valid from 1 â\\x80\\x93 30 June 2025. T&Cs apply. \\r\\n\\r\\n\\r\\n                                                                \\n\\n\\n\\n\\n\\r\\n                                                                View More\\r\\n                                                                \\n\\n\\n\\n\\n\\n\\n\\n\\n\\n\\n\\n\\n\\n\\n\\n\\n\\n\\n\\n\\n\\n\\n\\n\\n\\n\\n\\n\\n\\n\\n\\n\\n\\n\\n\\n\\n\\n\\n\\n\\n\\n\\n\\n\\n\\n\\n\\r\\n                        Credit Cards\\r\\n                        \\nCashback Rewards, EasyPay\\n\\n\\n\\n\\n\\n\\n\\n\\n\\r\\n                                Credit Cards\\r\\n                            \\n\\n\\n\\n\\n\\n\\n\\n\\n\\n\\n\\n\\n\\n\\n\\n\\n\\n\\nCashback\\n\\n\\n\\n\\n\\n\\n\\n\\n\\n\\n\\n\\n\\n\\n\\n\\n\\n\\n\\n\\n\\n\\n\\n\\n\\n\\n\\r\\n                                                            Simply Cash Credit Card\\r\\n                                                        \\n\\n\\n\\n\\n\\r\\n                                                                Earn \\n1.5 % \\nCashback\\r\\n                                                            \\n\\n\\n\\r\\n                                                                on all spends.\\r\\n                                                            \\n\\n\\n\\n\\n\\r\\n\\t\\t\\t\\t\\t\\t\\t\\t\\t\\t\\t\\t\\t\\tGet S$710 worth of Welcome Gifts. \\r\\n\\r\\n\\r\\n                                                        \\n\\n\\n\\n\\n\\n\\n\\n\\n\\n\\n\\n\\n\\n\\n\\n\\n\\n\\nMiles\\n\\n\\n\\n\\n\\n\\n\\n\\n\\n\\n\\n\\n\\n\\n\\r\\n                                                            Beyond Credit Card\\r\\n                                                        \\n\\n\\n\\n\\n\\r\\n                                                                Earn beyond \\n1\\n million miles\\r\\n                                                            \\n\\n\\n\\r\\n                                                                when you spend with us, grow your wealth with us and refer your loved ones.\\r\\n                                                            \\n\\n\\n\\n\\n\\n\\n\\n\\n\\n\\n\\n\\n\\n\\n\\n\\n\\n\\n\\n\\n\\n\\n\\n\\nMiles\\n\\n\\n\\n\\n\\n\\n\\n\\n\\n\\n\\n\\n\\n\\n\\n\\n\\n\\n\\n\\n\\n\\n\\n\\n\\n\\n\\r\\n                                                            Journey Credit Card\\r\\n                                                        \\n\\n\\n\\n\\n\\r\\n                                                                Earn up to \\n3\\n miles\\r\\n                                                            \\n\\n\\n\\r\\n                                                                per S$1 spend\\r\\n                                                            \\n\\n\\n\\n\\n\\r\\n\\t\\t\\t\\t\\t\\t\\t\\t\\t\\t\\t\\t\\t\\tGet up to 30,000 Welcome Miles.\\r\\n\\r\\n                                                        \\n\\n\\n\\n\\n\\n\\n\\n\\n\\n\\n\\n\\n\\n\\n\\n\\n\\n\\n\\n\\n\\n\\n\\n\\n\\n\\n\\n\\n\\n\\n\\r\\n                                                                Compare credit cards and choose the one that\\r\\n                                                                best suits your needs\\r\\n                                                            \\n\\n\\n\\n\\n\\r\\n                                                            View and Compare All Cards\\r\\n                                                        \\n\\n\\n\\n\\n\\n\\n\\n\\n\\n\\n\\r\\n                                                    CREDIT CARD PROMOTIONS\\r\\n                                                \\n\\n\\n\\n\\n\\n\\n\\n\\n\\n\\n\\r\\n                                                                    Lifestyle Offers - The Good Life\\r\\n                                                                \\n\\n\\n\\n\\n\\n\\n\\n\\n\\n\\n\\r\\n                                                    CREDIT CARD FEATURES\\r\\n                                                \\n\\n\\n\\n\\n\\n\\n\\n\\n\\n\\n\\r\\n                                                                    SC Instalment Payment Plan\\r\\n                                                                \\n\\n\\n\\n\\n\\n\\n\\n\\n\\n\\n\\n\\n\\n\\n\\r\\n                                                                    SC EasyPay Instalments\\r\\n                                                                \\n\\n\\n\\n\\n\\n\\n\\n\\n\\n\\n\\n\\n\\n\\n\\r\\n                                                                    SC EasyBill Payments\\r\\n                                                                \\n\\n\\n\\n\\n\\n\\n\\n\\n\\n\\n\\n\\n\\n\\n\\r\\n                                                                    Credit Card Credit Limit Review\\r\\n                                                                \\n\\n\\n\\n\\n\\n\\n\\n\\n\\n\\n\\n\\n\\n\\n\\r\\n                                                                    Temporary Credit Limit Increase\\r\\n                                                                \\n\\n\\n\\n\\n\\n\\n\\n\\n\\n\\n\\n\\n\\n\\n\\r\\n                                                                    360Â° Rewards Redemption\\r\\n                                                                \\n\\n\\n\\n\\n\\n\\n\\n\\n\\n\\n\\n\\n\\n\\n\\n\\n\\n\\n\\n\\n\\n\\n\\r\\n                                                    Credit Card Services\\r\\n                                                \\n\\n\\n\\n\\n\\n\\n\\n\\n\\n\\n\\r\\n                                                                    Card Activation\\r\\n                                                                \\n\\n\\n\\n\\n\\n\\n\\n\\n\\n\\n\\n\\n\\n\\n\\r\\n                                                                    Supplem'"
            ],
            "application/vnd.google.colaboratory.intrinsic+json": {
              "type": "string"
            }
          },
          "metadata": {},
          "execution_count": 73
        }
      ]
    },
    {
      "cell_type": "markdown",
      "source": [
        "## 5. Defining Tools for the Agent"
      ],
      "metadata": {
        "id": "VsMuqMwvN5Bx"
      }
    },
    {
      "cell_type": "code",
      "source": [
        "tools = [\n",
        "    {\n",
        "        \"type\": \"function\",  # Tells the agent this is a callable tool\n",
        "        \"function\": {\n",
        "            \"name\": \"read_standard_chartered_pages\",  # Tool name used by the agent. Change it as per your requirmeents\n",
        "            \"description\": (\n",
        "                \"Reads the Standard Chartered Singapore website starting from the home page (https://www.sc.com/sg), \"\n",
        "                \"and automatically includes key internal pages under /sg/. Returns all useful text from those pages.\"\n",
        "            ),\n",
        "            \"parameters\": {\n",
        "                \"type\": \"object\",\n",
        "                \"properties\": {},\n",
        "                \"required\": []\n",
        "            }\n",
        "        }\n",
        "    }\n",
        "]\n",
        "\n",
        "# This map links the tool name to the actual Python function\n",
        "tool_map = {\n",
        "    \"read_standard_chartered_pages\": lambda: read_from_url(\"https://www.sc.com/sg\", show_links=False)\n",
        "}"
      ],
      "metadata": {
        "id": "wDru3nyuNba5"
      },
      "execution_count": 81,
      "outputs": []
    },
    {
      "cell_type": "markdown",
      "source": [
        "## 6. Define the Agent Function\n",
        "### The function takes a question from the user, lets GPT decide if it needs to call a tool, and then answers using real website content."
      ],
      "metadata": {
        "id": "U8G-igovN53N"
      }
    },
    {
      "cell_type": "code",
      "source": [
        "def agent_chat(user_question):\n",
        "    messages = [\n",
        "        {\n",
        "            \"role\": \"system\",\n",
        "            \"content\": (\n",
        "                \"You are a helpful assistant. You must use the provided `read_standard_chartered_pages` tool \"\n",
        "                \"to read and answer questions based only on the content of https://www.sc.com/sg and its child pages.\\n\"\n",
        "                \"You are not allowed to make up any information. If something is not found, say so.\"\n",
        "            )\n",
        "        },\n",
        "        {\n",
        "            \"role\": \"user\",\n",
        "            \"content\": user_question\n",
        "        }\n",
        "    ]\n",
        "\n",
        "    response = client.chat.completions.create(\n",
        "        model=\"gpt-4\",                        # You can change this to any other gpt or LLM as required. This has a implication as each LLM has a restiction of number of tokens/words it can take input and process\n",
        "        messages=messages,\n",
        "        tools=tools,\n",
        "        tool_choice=\"auto\",                   # LLM decides when to use the tool\n",
        "        temperature=0.2                       # Low randomness = more factual\n",
        "    )\n",
        "\n",
        "    # If the LLM wants to use a tool\n",
        "    if response.choices[0].message.tool_calls:\n",
        "        tool_call = response.choices[0].message.tool_calls[0]\n",
        "        tool_name = tool_call.function.name\n",
        "        tool_response = tool_map[tool_name]()  # Call the tool using tool_map\n",
        "\n",
        "        # Add the first response (with the tool call) and the tool response to the messages list\n",
        "        messages.append(response.choices[0].message)\n",
        "        messages.append({\n",
        "            \"role\": \"tool\",\n",
        "            \"tool_call_id\": tool_call.id,\n",
        "            \"name\": tool_name,\n",
        "            \"content\": tool_response\n",
        "        })\n",
        "\n",
        "        # Now provide tool response back to the LLM\n",
        "        second_response = client.chat.completions.create(\n",
        "            model=\"gpt-4\",\n",
        "            messages=messages\n",
        "        )\n",
        "        return second_response.choices[0].message.content\n",
        "    else:\n",
        "        return response.choices[0].message.content"
      ],
      "metadata": {
        "id": "8i_Lk2PDNdw4"
      },
      "execution_count": 82,
      "outputs": []
    },
    {
      "cell_type": "markdown",
      "source": [
        "## 7. Try Asking a Question\n",
        "### In this example we have crawled only 10 pages. So the agent will answer only if the question is from content from these 10 pages"
      ],
      "metadata": {
        "id": "9GkJoh-4N6l4"
      }
    },
    {
      "cell_type": "code",
      "source": [
        "agent_chat(\"What are bonus saver account  benefit?\")"
      ],
      "metadata": {
        "colab": {
          "base_uri": "https://localhost:8080/",
          "height": 70
        },
        "id": "MGPXjoPXNgOZ",
        "outputId": "d71092bd-ae09-478d-9915-dd6641322d82"
      },
      "execution_count": 83,
      "outputs": [
        {
          "output_type": "execute_result",
          "data": {
            "text/plain": [
              "'Based on the information from the Standard Chartered Singapore website, the benefits of a Bonus$aver Account include:\\n\\n1. An interest rate of up to 8.05% p.a.\\n\\n2. The choice for account holders to have control over how their money grows.\\n\\nIn addition, there is a promotion for a bonus of 50 units of SPDR STI ETF (SGX:ES3) valued at S$198 when you sign up for a Bonus$aver Account and a Bonus$aver World Mastercard Credit Card. This offer is valid from 1st June to 30 June 2025, and terms and conditions apply.'"
            ],
            "application/vnd.google.colaboratory.intrinsic+json": {
              "type": "string"
            }
          },
          "metadata": {},
          "execution_count": 83
        }
      ]
    }
  ]
}